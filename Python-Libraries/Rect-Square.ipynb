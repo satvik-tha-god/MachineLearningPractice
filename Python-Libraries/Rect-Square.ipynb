{
 "cells": [
  {
   "cell_type": "code",
   "execution_count": 1,
   "metadata": {},
   "outputs": [],
   "source": [
    "import numpy as np\n",
    "import matplotlib.pyplot as plt\n",
    "import cv2\n",
    "plt.rcParams[\"figure.figsize\"] = (10,10)"
   ]
  },
  {
   "cell_type": "code",
   "execution_count": 3,
   "metadata": {},
   "outputs": [],
   "source": [
    "\n",
    "\n",
    "def click_event(event, x, y, flags, param):\n",
    "    \n",
    "    # On clicking left mouse button\n",
    "    if event == cv2.EVENT_LBUTTONDOWN:\n",
    "        \n",
    "        \n",
    "        cv2.rectangle(img,(x,y),(x+100,y+50),(0,0,255),5)\n",
    "        cv2.imshow('image', img)\n",
    "    if event == cv2.EVENT_RBUTTONDOWN:\n",
    "        blue = img[y][x][0]\n",
    "        green = img[y][x][1]\n",
    "        red = img[y][x][2]\n",
    "        channel = str(blue) + \",\" + str(green) + \",\" + str(red)\n",
    "        \n",
    "        cv2.circle(img, (x,y), 50, (0,255,0), -1)\n",
    "        cv2.imshow('image', img)        \n",
    "img = np.zeros((700, 700, 3), np.uint8)\n",
    "cv2.imshow('image', img)\n",
    "\n",
    "cv2.setMouseCallback('image', click_event)\n",
    "\n",
    "cv2.waitKey(0)\n",
    "cv2.destroyAllWindows()"
   ]
  }
 ],
 "metadata": {
  "kernelspec": {
   "display_name": "Python 3",
   "language": "python",
   "name": "python3"
  },
  "language_info": {
   "codemirror_mode": {
    "name": "ipython",
    "version": 3
   },
   "file_extension": ".py",
   "mimetype": "text/x-python",
   "name": "python",
   "nbconvert_exporter": "python",
   "pygments_lexer": "ipython3",
   "version": "3.8.5"
  }
 },
 "nbformat": 4,
 "nbformat_minor": 4
}
